{
 "cells": [
  {
   "cell_type": "code",
   "execution_count": 3,
   "metadata": {},
   "outputs": [],
   "source": [
    "import os\n",
    "import re\n",
    "import json\n",
    "from tqdm import tqdm\n",
    "from pypdf import PdfReader"
   ]
  },
  {
   "cell_type": "code",
   "execution_count": 2,
   "metadata": {},
   "outputs": [],
   "source": [
    "directory = \"\" # your directory here."
   ]
  },
  {
   "cell_type": "markdown",
   "metadata": {},
   "source": [
    "renaming paper from arxiv"
   ]
  },
  {
   "cell_type": "code",
   "execution_count": null,
   "metadata": {},
   "outputs": [],
   "source": [
    "for filename in os.listdir(directory):\n",
    "    if filename.endswith(\".pdf\"):\n",
    "        filepath = os.path.join(directory, filename)\n",
    "        with open(filepath, 'rb') as pdf_file:\n",
    "            pdf_reader = PdfReader(pdf_file)\n",
    "            first_page = pdf_reader.pages[0]\n",
    "            text = first_page.extract_text()\n",
    "\n",
    "            # Search for the arXiv ID pattern on the first page\n",
    "            match = re.search(r'(\\d{4}\\.\\d{5}v?\\d?)', text)\n",
    "            if match:\n",
    "                arxiv_id = match.group(1)\n",
    "                # Remove the \"v\" and digit from the arXiv ID\n",
    "                arxiv_id = re.sub(r'v\\d', '', arxiv_id)\n",
    "                new_filename = f\"{arxiv_id}.pdf\"\n",
    "                new_filepath = os.path.join(directory, new_filename)\n",
    "                os.rename(filepath, new_filepath)\n",
    "                print(f\"Renamed: {filename} -> {new_filename}\")\n",
    "            else:\n",
    "                print(f\"No arXiv ID found for: {filename}\")"
   ]
  },
  {
   "cell_type": "markdown",
   "metadata": {},
   "source": [
    "fetch abstracts from api and save to jsonl"
   ]
  },
  {
   "cell_type": "code",
   "execution_count": 4,
   "metadata": {},
   "outputs": [
    {
     "name": "stderr",
     "output_type": "stream",
     "text": [
      "100%|██████████| 497/497 [04:25<00:00,  1.87it/s]\n"
     ]
    }
   ],
   "source": [
    "import requests\n",
    "\n",
    "jsonl_filename = \"~/arxiv_paper_abs.jsonl\"\n",
    "jsonl_filepath = os.path.expanduser(jsonl_filename)\n",
    "\n",
    "with open(jsonl_filepath, 'w') as jsonl_file:\n",
    "    for filename in tqdm(os.listdir(directory)):\n",
    "        if filename.endswith(\".pdf\"):\n",
    "            arxiv_id = filename.replace('.pdf', '')\n",
    "            url = f\"http://export.arxiv.org/api/query?id_list={arxiv_id}\"\n",
    "            response = requests.get(url)\n",
    "            if response.status_code == 200:\n",
    "                feed = response.content.decode('utf-8')\n",
    "                start_index = feed.find('<summary>')\n",
    "                end_index = feed.find('</summary>')\n",
    "                if start_index != -1 and end_index != -1:\n",
    "                    abstract = feed[start_index + 9:end_index].strip().replace(\"\\n\", \" \")\n",
    "                    data = {\"id\": arxiv_id, \"abstract\": abstract}\n",
    "                    jsonl_file.write(json.dumps(data) + '\\n')"
   ]
  },
  {
   "cell_type": "markdown",
   "metadata": {},
   "source": [
    "find and rename those with a doi id"
   ]
  },
  {
   "cell_type": "code",
   "execution_count": null,
   "metadata": {},
   "outputs": [],
   "source": [
    "for filename in tqdm(os.listdir(directory)):\n",
    "    if filename.endswith(\".pdf\"):\n",
    "        filepath = os.path.join(directory, filename)\n",
    "        with open(filepath, 'rb') as pdf_file:\n",
    "            pdf_reader = PdfReader(pdf_file)\n",
    "            first_page = pdf_reader.pages[0]\n",
    "            text = first_page.extract_text() if first_page else \"\"\n",
    "\n",
    "            # Regex pattern for matching a DOI link\n",
    "            doi_pattern = r'https?://doi\\.org/10\\.[0-9]+/[^\\s]+'\n",
    "            match = re.search(doi_pattern, text)\n",
    "            if match:\n",
    "                doi_link = match.group(0)\n",
    "                # Extract the DOI identifier and replace slashes with dots\n",
    "                doi_identifier = doi_link.replace('https://doi.org/', '').replace('/', '.')\n",
    "                new_filename = f\"{doi_identifier}.pdf\"\n",
    "                new_filepath = os.path.join(directory, new_filename)\n",
    "                os.rename(filepath, new_filepath)\n",
    "                print(f\"Renamed: {filename} -> {new_filename}\")\n",
    "            else:\n",
    "                print(f\"No DOI link found for: {filename}\")"
   ]
  }
 ],
 "metadata": {
  "kernelspec": {
   "display_name": "base",
   "language": "python",
   "name": "python3"
  },
  "language_info": {
   "codemirror_mode": {
    "name": "ipython",
    "version": 3
   },
   "file_extension": ".py",
   "mimetype": "text/x-python",
   "name": "python",
   "nbconvert_exporter": "python",
   "pygments_lexer": "ipython3",
   "version": "3.12.2"
  }
 },
 "nbformat": 4,
 "nbformat_minor": 2
}
